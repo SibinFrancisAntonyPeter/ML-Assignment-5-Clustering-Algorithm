{
 "cells": [
  {
   "cell_type": "code",
   "execution_count": 802,
   "id": "dd9c5d2b-f07f-4e86-8c07-8c635e94e5d2",
   "metadata": {},
   "outputs": [],
   "source": [
    "## Loading the necessary libraries\n",
    "\n",
    "import pandas as pd\n",
    "import numpy as np\n",
    "import matplotlib.pyplot as plt\n",
    "import seaborn as sns\n",
    "from sklearn.datasets import load_iris\n",
    "from sklearn.preprocessing import StandardScaler\n",
    "from sklearn.cluster import KMeans, AgglomerativeClustering\n",
    "from sklearn.decomposition import PCA"
   ]
  },
  {
   "cell_type": "code",
   "execution_count": 803,
   "id": "796abb52-42f5-4d9b-84f0-c20aad4bda77",
   "metadata": {},
   "outputs": [
    {
     "data": {
      "text/html": [
       "<div>\n",
       "<style scoped>\n",
       "    .dataframe tbody tr th:only-of-type {\n",
       "        vertical-align: middle;\n",
       "    }\n",
       "\n",
       "    .dataframe tbody tr th {\n",
       "        vertical-align: top;\n",
       "    }\n",
       "\n",
       "    .dataframe thead th {\n",
       "        text-align: right;\n",
       "    }\n",
       "</style>\n",
       "<table border=\"1\" class=\"dataframe\">\n",
       "  <thead>\n",
       "    <tr style=\"text-align: right;\">\n",
       "      <th></th>\n",
       "      <th>sepal length (cm)</th>\n",
       "      <th>sepal width (cm)</th>\n",
       "      <th>petal length (cm)</th>\n",
       "      <th>petal width (cm)</th>\n",
       "    </tr>\n",
       "  </thead>\n",
       "  <tbody>\n",
       "    <tr>\n",
       "      <th>0</th>\n",
       "      <td>5.1</td>\n",
       "      <td>3.5</td>\n",
       "      <td>1.4</td>\n",
       "      <td>0.2</td>\n",
       "    </tr>\n",
       "    <tr>\n",
       "      <th>1</th>\n",
       "      <td>4.9</td>\n",
       "      <td>3.0</td>\n",
       "      <td>1.4</td>\n",
       "      <td>0.2</td>\n",
       "    </tr>\n",
       "    <tr>\n",
       "      <th>2</th>\n",
       "      <td>4.7</td>\n",
       "      <td>3.2</td>\n",
       "      <td>1.3</td>\n",
       "      <td>0.2</td>\n",
       "    </tr>\n",
       "    <tr>\n",
       "      <th>3</th>\n",
       "      <td>4.6</td>\n",
       "      <td>3.1</td>\n",
       "      <td>1.5</td>\n",
       "      <td>0.2</td>\n",
       "    </tr>\n",
       "    <tr>\n",
       "      <th>4</th>\n",
       "      <td>5.0</td>\n",
       "      <td>3.6</td>\n",
       "      <td>1.4</td>\n",
       "      <td>0.2</td>\n",
       "    </tr>\n",
       "  </tbody>\n",
       "</table>\n",
       "</div>"
      ],
      "text/plain": [
       "   sepal length (cm)  sepal width (cm)  petal length (cm)  petal width (cm)\n",
       "0                5.1               3.5                1.4               0.2\n",
       "1                4.9               3.0                1.4               0.2\n",
       "2                4.7               3.2                1.3               0.2\n",
       "3                4.6               3.1                1.5               0.2\n",
       "4                5.0               3.6                1.4               0.2"
      ]
     },
     "execution_count": 803,
     "metadata": {},
     "output_type": "execute_result"
    }
   ],
   "source": [
    "# Loading the dataset\n",
    "data = load_iris()\n",
    "df = pd.DataFrame(data.data, columns = data.feature_names)\n",
    "df.head()"
   ]
  },
  {
   "cell_type": "code",
   "execution_count": 804,
   "id": "3fb01c3f-bd4b-4b75-be39-cb402e104af0",
   "metadata": {},
   "outputs": [
    {
     "data": {
      "text/plain": [
       "sepal length (cm)    0\n",
       "sepal width (cm)     0\n",
       "petal length (cm)    0\n",
       "petal width (cm)     0\n",
       "dtype: int64"
      ]
     },
     "execution_count": 804,
     "metadata": {},
     "output_type": "execute_result"
    }
   ],
   "source": [
    "# Checking for null values\n",
    "df.isnull().sum()"
   ]
  },
  {
   "cell_type": "code",
   "execution_count": 805,
   "id": "3319b73a-e349-46c1-b78d-c1db1948d9b5",
   "metadata": {},
   "outputs": [
    {
     "name": "stdout",
     "output_type": "stream",
     "text": [
      "<class 'pandas.core.frame.DataFrame'>\n",
      "RangeIndex: 150 entries, 0 to 149\n",
      "Data columns (total 4 columns):\n",
      " #   Column             Non-Null Count  Dtype  \n",
      "---  ------             --------------  -----  \n",
      " 0   sepal length (cm)  150 non-null    float64\n",
      " 1   sepal width (cm)   150 non-null    float64\n",
      " 2   petal length (cm)  150 non-null    float64\n",
      " 3   petal width (cm)   150 non-null    float64\n",
      "dtypes: float64(4)\n",
      "memory usage: 4.8 KB\n"
     ]
    }
   ],
   "source": [
    "# Getting the basic info\n",
    "df.info()"
   ]
  },
  {
   "cell_type": "code",
   "execution_count": 806,
   "id": "7bc185ab-66a2-47a1-aef3-cb3cc836bb6e",
   "metadata": {},
   "outputs": [
    {
     "data": {
      "text/html": [
       "<div>\n",
       "<style scoped>\n",
       "    .dataframe tbody tr th:only-of-type {\n",
       "        vertical-align: middle;\n",
       "    }\n",
       "\n",
       "    .dataframe tbody tr th {\n",
       "        vertical-align: top;\n",
       "    }\n",
       "\n",
       "    .dataframe thead th {\n",
       "        text-align: right;\n",
       "    }\n",
       "</style>\n",
       "<table border=\"1\" class=\"dataframe\">\n",
       "  <thead>\n",
       "    <tr style=\"text-align: right;\">\n",
       "      <th></th>\n",
       "      <th>sepal length (cm)</th>\n",
       "      <th>sepal width (cm)</th>\n",
       "      <th>petal length (cm)</th>\n",
       "      <th>petal width (cm)</th>\n",
       "    </tr>\n",
       "  </thead>\n",
       "  <tbody>\n",
       "    <tr>\n",
       "      <th>0</th>\n",
       "      <td>5.1</td>\n",
       "      <td>3.5</td>\n",
       "      <td>1.4</td>\n",
       "      <td>0.2</td>\n",
       "    </tr>\n",
       "    <tr>\n",
       "      <th>1</th>\n",
       "      <td>4.9</td>\n",
       "      <td>3.0</td>\n",
       "      <td>1.4</td>\n",
       "      <td>0.2</td>\n",
       "    </tr>\n",
       "    <tr>\n",
       "      <th>2</th>\n",
       "      <td>4.7</td>\n",
       "      <td>3.2</td>\n",
       "      <td>1.3</td>\n",
       "      <td>0.2</td>\n",
       "    </tr>\n",
       "    <tr>\n",
       "      <th>3</th>\n",
       "      <td>4.6</td>\n",
       "      <td>3.1</td>\n",
       "      <td>1.5</td>\n",
       "      <td>0.2</td>\n",
       "    </tr>\n",
       "    <tr>\n",
       "      <th>4</th>\n",
       "      <td>5.0</td>\n",
       "      <td>3.6</td>\n",
       "      <td>1.4</td>\n",
       "      <td>0.2</td>\n",
       "    </tr>\n",
       "  </tbody>\n",
       "</table>\n",
       "</div>"
      ],
      "text/plain": [
       "   sepal length (cm)  sepal width (cm)  petal length (cm)  petal width (cm)\n",
       "0                5.1               3.5                1.4               0.2\n",
       "1                4.9               3.0                1.4               0.2\n",
       "2                4.7               3.2                1.3               0.2\n",
       "3                4.6               3.1                1.5               0.2\n",
       "4                5.0               3.6                1.4               0.2"
      ]
     },
     "execution_count": 806,
     "metadata": {},
     "output_type": "execute_result"
    }
   ],
   "source": [
    "# Checking fo duplicates\n",
    "df.drop_duplicates(inplace = True)\n",
    "df.head()"
   ]
  },
  {
   "cell_type": "code",
   "execution_count": 807,
   "id": "33e4dfa4-d991-4d78-8475-ea1d224e736b",
   "metadata": {},
   "outputs": [
    {
     "data": {
      "text/html": [
       "<div>\n",
       "<style scoped>\n",
       "    .dataframe tbody tr th:only-of-type {\n",
       "        vertical-align: middle;\n",
       "    }\n",
       "\n",
       "    .dataframe tbody tr th {\n",
       "        vertical-align: top;\n",
       "    }\n",
       "\n",
       "    .dataframe thead th {\n",
       "        text-align: right;\n",
       "    }\n",
       "</style>\n",
       "<table border=\"1\" class=\"dataframe\">\n",
       "  <thead>\n",
       "    <tr style=\"text-align: right;\">\n",
       "      <th></th>\n",
       "      <th>sepal length (cm)</th>\n",
       "      <th>sepal width (cm)</th>\n",
       "      <th>petal length (cm)</th>\n",
       "      <th>petal width (cm)</th>\n",
       "    </tr>\n",
       "  </thead>\n",
       "  <tbody>\n",
       "    <tr>\n",
       "      <th>count</th>\n",
       "      <td>149.000000</td>\n",
       "      <td>149.000000</td>\n",
       "      <td>149.000000</td>\n",
       "      <td>149.000000</td>\n",
       "    </tr>\n",
       "    <tr>\n",
       "      <th>mean</th>\n",
       "      <td>5.843624</td>\n",
       "      <td>3.059732</td>\n",
       "      <td>3.748993</td>\n",
       "      <td>1.194631</td>\n",
       "    </tr>\n",
       "    <tr>\n",
       "      <th>std</th>\n",
       "      <td>0.830851</td>\n",
       "      <td>0.436342</td>\n",
       "      <td>1.767791</td>\n",
       "      <td>0.762622</td>\n",
       "    </tr>\n",
       "    <tr>\n",
       "      <th>min</th>\n",
       "      <td>4.300000</td>\n",
       "      <td>2.000000</td>\n",
       "      <td>1.000000</td>\n",
       "      <td>0.100000</td>\n",
       "    </tr>\n",
       "    <tr>\n",
       "      <th>25%</th>\n",
       "      <td>5.100000</td>\n",
       "      <td>2.800000</td>\n",
       "      <td>1.600000</td>\n",
       "      <td>0.300000</td>\n",
       "    </tr>\n",
       "    <tr>\n",
       "      <th>50%</th>\n",
       "      <td>5.800000</td>\n",
       "      <td>3.000000</td>\n",
       "      <td>4.300000</td>\n",
       "      <td>1.300000</td>\n",
       "    </tr>\n",
       "    <tr>\n",
       "      <th>75%</th>\n",
       "      <td>6.400000</td>\n",
       "      <td>3.300000</td>\n",
       "      <td>5.100000</td>\n",
       "      <td>1.800000</td>\n",
       "    </tr>\n",
       "    <tr>\n",
       "      <th>max</th>\n",
       "      <td>7.900000</td>\n",
       "      <td>4.400000</td>\n",
       "      <td>6.900000</td>\n",
       "      <td>2.500000</td>\n",
       "    </tr>\n",
       "  </tbody>\n",
       "</table>\n",
       "</div>"
      ],
      "text/plain": [
       "       sepal length (cm)  sepal width (cm)  petal length (cm)  \\\n",
       "count         149.000000        149.000000         149.000000   \n",
       "mean            5.843624          3.059732           3.748993   \n",
       "std             0.830851          0.436342           1.767791   \n",
       "min             4.300000          2.000000           1.000000   \n",
       "25%             5.100000          2.800000           1.600000   \n",
       "50%             5.800000          3.000000           4.300000   \n",
       "75%             6.400000          3.300000           5.100000   \n",
       "max             7.900000          4.400000           6.900000   \n",
       "\n",
       "       petal width (cm)  \n",
       "count        149.000000  \n",
       "mean           1.194631  \n",
       "std            0.762622  \n",
       "min            0.100000  \n",
       "25%            0.300000  \n",
       "50%            1.300000  \n",
       "75%            1.800000  \n",
       "max            2.500000  "
      ]
     },
     "execution_count": 807,
     "metadata": {},
     "output_type": "execute_result"
    }
   ],
   "source": [
    "# Descriptive Analysis\n",
    "df.describe()"
   ]
  },
  {
   "cell_type": "code",
   "execution_count": 808,
   "id": "79808717-efed-47f5-84d5-0891a93c5261",
   "metadata": {},
   "outputs": [
    {
     "data": {
      "image/png": "[encoded data removed]",
      "text/plain": [
       "<Figure size 640x480 with 2 Axes>"
      ]
     },
     "metadata": {},
     "output_type": "display_data"
    }
   ],
   "source": [
    "# Plotting the heat map\n",
    "\n",
    "corealtion_matrix = df.corr()\n",
    "\n",
    "sns.heatmap(corealtion_matrix,annot=True,cmap='rocket',fmt='.2f')\n",
    "plt.title('Corealation Heat map')\n",
    "plt.show()"
   ]
  },
  {
   "cell_type": "markdown",
   "id": "8507dcef-7b36-4172-a88c-197aea74ec51",
   "metadata": {},
   "source": [
    "## Clustering Algorithm"
   ]
  },
  {
   "cell_type": "markdown",
   "id": "3efab12d-0140-4197-9813-82170b130460",
   "metadata": {},
   "source": [
    "#### A) KMeans Clustering"
   ]
  },
  {
   "cell_type": "raw",
   "id": "0b8d13d6-42c4-42af-832c-dab0548864f4",
   "metadata": {},
   "source": [
    "K-Means is an unsupervised machine learning algorithm used to group data into a specified number of clusters (k). The process works as follows:\n",
    "\n",
    " * Initialization: Randomly select k points as initial cluster centroids.\n",
    " * Assignment: Assign each data point to the nearest centroid based on a distance metric (e.g., Euclidean distance).\n",
    " * Update: Recalculate the centroids by averaging the data points assigned to each cluster.\n",
    " * Repeat: Iterate steps 2 and 3 until the centroids stabilize (i.e., no significant change in their positions) or a maximum number of iterations is  \n",
    "   reached.\n",
    " * Output: The algorithm outputs cluster assignments and the final centroid positions.\n",
    " * K-Means works best with numerical data and assumes clusters are spherical and evenly sized. It may require preprocessing (e.g., scaling) for optimal  \n",
    "   results."
   ]
  },
  {
   "cell_type": "raw",
   "id": "4e82cee6-ab6c-4d0f-a8ee-4f013963a63a",
   "metadata": {},
   "source": [
    "Why KMeans clustering might be suitable for the Iris dataset?\n",
    "\n",
    "K-Means clustering is suitable for the Iris dataset because it is an unsupervised algorithm that can effectively group data points based on their  features, and the Iris dataset contains well-defined numerical features (sepal length, sepal width, petal length, and petal width). These features provide clear separations between species in a multi-dimensional space, making it ideal for K-Means, which works by minimizing intra-cluster distances. Additionally, the Iris dataset is small, balanced, and has roughly spherical clusters, aligning well with the assumptions of K-Means. This allows the algorithm to group the data into three clusters that can correspond to the three species (setosa, versicolor, virginica) without relying on labeled data.\n"
   ]
  },
  {
   "cell_type": "code",
   "execution_count": 811,
   "id": "f84547ae-e493-4a2c-b4cd-707ee0b1a317",
   "metadata": {},
   "outputs": [],
   "source": [
    "scaler=StandardScaler()\n",
    "scaled_data=scaler.fit_transform(df)\n",
    "X = pd.DataFrame(scaled_data)"
   ]
  },
  {
   "cell_type": "code",
   "execution_count": 812,
   "id": "015f32ee-5826-4af9-9499-c880f12366d3",
   "metadata": {},
   "outputs": [
    {
     "data": {
      "text/html": [
       "<div>\n",
       "<style scoped>\n",
       "    .dataframe tbody tr th:only-of-type {\n",
       "        vertical-align: middle;\n",
       "    }\n",
       "\n",
       "    .dataframe tbody tr th {\n",
       "        vertical-align: top;\n",
       "    }\n",
       "\n",
       "    .dataframe thead th {\n",
       "        text-align: right;\n",
       "    }\n",
       "</style>\n",
       "<table border=\"1\" class=\"dataframe\">\n",
       "  <thead>\n",
       "    <tr style=\"text-align: right;\">\n",
       "      <th></th>\n",
       "      <th>0</th>\n",
       "      <th>1</th>\n",
       "      <th>2</th>\n",
       "      <th>3</th>\n",
       "    </tr>\n",
       "  </thead>\n",
       "  <tbody>\n",
       "    <tr>\n",
       "      <th>0</th>\n",
       "      <td>-0.898033</td>\n",
       "      <td>1.012401</td>\n",
       "      <td>-1.333255</td>\n",
       "      <td>-1.308624</td>\n",
       "    </tr>\n",
       "    <tr>\n",
       "      <th>1</th>\n",
       "      <td>-1.139562</td>\n",
       "      <td>-0.137353</td>\n",
       "      <td>-1.333255</td>\n",
       "      <td>-1.308624</td>\n",
       "    </tr>\n",
       "    <tr>\n",
       "      <th>2</th>\n",
       "      <td>-1.381091</td>\n",
       "      <td>0.322549</td>\n",
       "      <td>-1.390014</td>\n",
       "      <td>-1.308624</td>\n",
       "    </tr>\n",
       "    <tr>\n",
       "      <th>3</th>\n",
       "      <td>-1.501855</td>\n",
       "      <td>0.092598</td>\n",
       "      <td>-1.276496</td>\n",
       "      <td>-1.308624</td>\n",
       "    </tr>\n",
       "    <tr>\n",
       "      <th>4</th>\n",
       "      <td>-1.018798</td>\n",
       "      <td>1.242352</td>\n",
       "      <td>-1.333255</td>\n",
       "      <td>-1.308624</td>\n",
       "    </tr>\n",
       "  </tbody>\n",
       "</table>\n",
       "</div>"
      ],
      "text/plain": [
       "          0         1         2         3\n",
       "0 -0.898033  1.012401 -1.333255 -1.308624\n",
       "1 -1.139562 -0.137353 -1.333255 -1.308624\n",
       "2 -1.381091  0.322549 -1.390014 -1.308624\n",
       "3 -1.501855  0.092598 -1.276496 -1.308624\n",
       "4 -1.018798  1.242352 -1.333255 -1.308624"
      ]
     },
     "execution_count": 812,
     "metadata": {},
     "output_type": "execute_result"
    }
   ],
   "source": [
    "X.head()"
   ]
  },
  {
   "cell_type": "code",
   "execution_count": 813,
   "id": "948c91fd-aea7-4f5e-9c93-3e94719c09e2",
   "metadata": {},
   "outputs": [],
   "source": [
    "import warnings\n",
    "warnings.filterwarnings(\"ignore\")"
   ]
  },
  {
   "cell_type": "code",
   "execution_count": 814,
   "id": "8e3aa1f7-aa67-491c-bb90-e4be2abb27b6",
   "metadata": {},
   "outputs": [],
   "source": [
    "wcss = []\n",
    "\n",
    "for i in range(1,11):\n",
    "    kmeans = KMeans(n_clusters=i, n_init=10,random_state=0)\n",
    "    kmeans.fit(X)\n",
    "    wcss.append(kmeans.inertia_)"
   ]
  },
  {
   "cell_type": "markdown",
   "id": "837925f0-15b8-4c0b-b024-3321bb81e307",
   "metadata": {},
   "source": [
    "#### Elbow method :\n",
    "The Elbow Method is a technique used in KMeans clustering to determine the optimal number of clusters (K) for a dataset. It works by plotting the within-cluster sum of squares (WCSS) against different values of K and looking for the \"elbow point\" in the graph. The elbow point is where the rate of decrease in WCSS slows significantly, indicating that adding more clusters does not provide substantial improvement in clustering performance. This optimal K balances model simplicity and accuracy, avoiding both underfitting and overfitting."
   ]
  },
  {
   "cell_type": "code",
   "execution_count": 816,
   "id": "318e429c-937a-4a60-806a-630fef3a9209",
   "metadata": {},
   "outputs": [
    {
     "data": {
      "image/png": "[encoded data removed]",
      "text/plain": [
       "<Figure size 1000x600 with 1 Axes>"
      ]
     },
     "metadata": {},
     "output_type": "display_data"
    }
   ],
   "source": [
    "# Plotting the elbow method\n",
    "\n",
    "plt.figure(figsize = (10,6))\n",
    "plt.plot(range(1,11), wcss, marker = 'o',color = 'g')\n",
    "plt.title('Elbow Method')\n",
    "plt.xlabel(\"Number of Clusters\")\n",
    "plt.ylabel('WCSS')\n",
    "plt.show()"
   ]
  },
  {
   "cell_type": "markdown",
   "id": "f1776083-908a-4828-9132-47fd8f57dda7",
   "metadata": {},
   "source": [
    "#### Taking K = 5 from the graph"
   ]
  },
  {
   "cell_type": "code",
   "execution_count": 818,
   "id": "2f70e0bc-7207-4f13-a4c8-65880e38fbf8",
   "metadata": {},
   "outputs": [],
   "source": [
    "# applying kmeans clustering with optimal number of clusters\n",
    "kmeans = KMeans(n_clusters=5, n_init = 10, random_state=0)\n",
    "y_kmeans = kmeans.fit_predict(X)"
   ]
  },
  {
   "cell_type": "code",
   "execution_count": 819,
   "id": "bf9de284-6422-4e6a-8524-8a01e9841f8d",
   "metadata": {},
   "outputs": [
    {
     "data": {
      "text/html": [
       "<div>\n",
       "<style scoped>\n",
       "    .dataframe tbody tr th:only-of-type {\n",
       "        vertical-align: middle;\n",
       "    }\n",
       "\n",
       "    .dataframe tbody tr th {\n",
       "        vertical-align: top;\n",
       "    }\n",
       "\n",
       "    .dataframe thead th {\n",
       "        text-align: right;\n",
       "    }\n",
       "</style>\n",
       "<table border=\"1\" class=\"dataframe\">\n",
       "  <thead>\n",
       "    <tr style=\"text-align: right;\">\n",
       "      <th></th>\n",
       "      <th>sepal length (cm)</th>\n",
       "      <th>sepal width (cm)</th>\n",
       "      <th>petal length (cm)</th>\n",
       "      <th>petal width (cm)</th>\n",
       "      <th>Cluster</th>\n",
       "    </tr>\n",
       "  </thead>\n",
       "  <tbody>\n",
       "    <tr>\n",
       "      <th>0</th>\n",
       "      <td>5.1</td>\n",
       "      <td>3.5</td>\n",
       "      <td>1.4</td>\n",
       "      <td>0.2</td>\n",
       "      <td>4</td>\n",
       "    </tr>\n",
       "    <tr>\n",
       "      <th>1</th>\n",
       "      <td>4.9</td>\n",
       "      <td>3.0</td>\n",
       "      <td>1.4</td>\n",
       "      <td>0.2</td>\n",
       "      <td>1</td>\n",
       "    </tr>\n",
       "    <tr>\n",
       "      <th>2</th>\n",
       "      <td>4.7</td>\n",
       "      <td>3.2</td>\n",
       "      <td>1.3</td>\n",
       "      <td>0.2</td>\n",
       "      <td>1</td>\n",
       "    </tr>\n",
       "    <tr>\n",
       "      <th>3</th>\n",
       "      <td>4.6</td>\n",
       "      <td>3.1</td>\n",
       "      <td>1.5</td>\n",
       "      <td>0.2</td>\n",
       "      <td>1</td>\n",
       "    </tr>\n",
       "    <tr>\n",
       "      <th>4</th>\n",
       "      <td>5.0</td>\n",
       "      <td>3.6</td>\n",
       "      <td>1.4</td>\n",
       "      <td>0.2</td>\n",
       "      <td>4</td>\n",
       "    </tr>\n",
       "  </tbody>\n",
       "</table>\n",
       "</div>"
      ],
      "text/plain": [
       "   sepal length (cm)  sepal width (cm)  petal length (cm)  petal width (cm)  \\\n",
       "0                5.1               3.5                1.4               0.2   \n",
       "1                4.9               3.0                1.4               0.2   \n",
       "2                4.7               3.2                1.3               0.2   \n",
       "3                4.6               3.1                1.5               0.2   \n",
       "4                5.0               3.6                1.4               0.2   \n",
       "\n",
       "   Cluster  \n",
       "0        4  \n",
       "1        1  \n",
       "2        1  \n",
       "3        1  \n",
       "4        4  "
      ]
     },
     "execution_count": 819,
     "metadata": {},
     "output_type": "execute_result"
    }
   ],
   "source": [
    "df['Cluster'] = y_kmeans\n",
    "df.head()"
   ]
  },
  {
   "cell_type": "code",
   "execution_count": 820,
   "id": "69aaaa56-8403-48a6-a334-18d6753acbc0",
   "metadata": {},
   "outputs": [],
   "source": [
    "# Applying PCA for comparison\n",
    "\n",
    "pca = PCA(n_components =2)\n",
    "df_pca = pca.fit_transform(X)"
   ]
  },
  {
   "cell_type": "code",
   "execution_count": 821,
   "id": "28c002c8-485a-4111-8347-3f9b7863d6b8",
   "metadata": {},
   "outputs": [
    {
     "data": {
      "text/plain": [
       "array([[-2.25269158e+00,  4.79299423e-01],\n",
       "       [-2.07100441e+00, -6.74233952e-01],\n",
       "       [-2.35314718e+00, -3.40442064e-01],\n",
       "       [-2.28876231e+00, -5.95440778e-01],\n",
       "       [-2.37729413e+00,  6.46885300e-01],\n",
       "       [-2.06233579e+00,  1.48735169e+00],\n",
       "       [-2.43205441e+00,  5.01784240e-02],\n",
       "       [-2.22124438e+00,  2.22920844e-01],\n",
       "       [-2.32468093e+00, -1.11233754e+00],\n",
       "       [-2.17393647e+00, -4.69164509e-01],\n",
       "       [-2.15372644e+00,  1.04128247e+00],\n",
       "       [-2.31439973e+00,  1.34128141e-01],\n",
       "       [-2.20836461e+00, -7.28302820e-01],\n",
       "       [-2.62241020e+00, -9.57873840e-01],\n",
       "       [-2.18502153e+00,  1.85550449e+00],\n",
       "       [-2.24685180e+00,  2.68321162e+00],\n",
       "       [-2.19408649e+00,  1.48183222e+00],\n",
       "       [-2.17837789e+00,  4.88282008e-01],\n",
       "       [-1.88595391e+00,  1.40095580e+00],\n",
       "       [-2.33010833e+00,  1.12767836e+00],\n",
       "       [-1.90318298e+00,  4.06025713e-01],\n",
       "       [-2.19423860e+00,  9.23988780e-01],\n",
       "       [-2.76123087e+00,  4.61020699e-01],\n",
       "       [-1.80782540e+00,  8.50424513e-02],\n",
       "       [-2.21558671e+00,  1.38267738e-01],\n",
       "       [-1.94208255e+00, -6.26387935e-01],\n",
       "       [-2.03967932e+00,  2.42265878e-01],\n",
       "       [-2.15670739e+00,  5.25765574e-01],\n",
       "       [-2.12808903e+00,  3.11713547e-01],\n",
       "       [-2.25433417e+00, -3.36302466e-01],\n",
       "       [-2.12973161e+00, -5.03888343e-01],\n",
       "       [-1.82043094e+00,  4.21231150e-01],\n",
       "       [-2.60035732e+00,  1.79281596e+00],\n",
       "       [-2.43139780e+00,  2.14834969e+00],\n",
       "       [-2.09962277e+00, -4.60181924e-01],\n",
       "       [-2.19694532e+00, -2.06563077e-01],\n",
       "       [-2.03344320e+00,  6.58264695e-01],\n",
       "       [-2.51465433e+00,  5.92816432e-01],\n",
       "       [-2.41917464e+00, -9.01045240e-01],\n",
       "       [-2.15819787e+00,  2.68007128e-01],\n",
       "       [-2.27436207e+00,  4.41815857e-01],\n",
       "       [-1.85092217e+00, -2.33568150e+00],\n",
       "       [-2.54228672e+00, -4.75700917e-01],\n",
       "       [-1.95260798e+00,  4.72903207e-01],\n",
       "       [-2.12404395e+00,  1.14218041e+00],\n",
       "       [-2.05973723e+00, -7.10337652e-01],\n",
       "       [-2.37148435e+00,  1.12007564e+00],\n",
       "       [-2.38325602e+00, -3.84148483e-01],\n",
       "       [-2.21677296e+00,  9.96196181e-01],\n",
       "       [-2.19262601e+00,  8.86881654e-03],\n",
       "       [ 1.10856780e+00,  8.51248930e-01],\n",
       "       [ 7.38727067e-01,  5.86954076e-01],\n",
       "       [ 1.24726636e+00,  6.05232801e-01],\n",
       "       [ 4.11997054e-01, -1.75773643e+00],\n",
       "       [ 1.08093541e+00, -2.17268419e-01],\n",
       "       [ 3.94998250e-01, -5.97303729e-01],\n",
       "       [ 7.54313553e-01,  7.66282269e-01],\n",
       "       [-4.81342849e-01, -1.85218879e+00],\n",
       "       [ 9.33798500e-01,  2.25248587e-02],\n",
       "       [ 1.80093777e-02, -1.03470392e+00],\n",
       "       [-1.06196834e-01, -2.65503142e+00],\n",
       "       [ 4.47793561e-01, -6.79612668e-02],\n",
       "       [ 5.65844582e-01, -1.77192492e+00],\n",
       "       [ 7.25817300e-01, -1.92544114e-01],\n",
       "       [-2.60433605e-02, -4.42136645e-01],\n",
       "       [ 8.82171279e-01,  4.99178318e-01],\n",
       "       [ 3.57467043e-01, -1.99080523e-01],\n",
       "       [ 1.64909034e-01, -7.97356822e-01],\n",
       "       [ 1.22819443e+00, -1.62994011e+00],\n",
       "       [ 1.70366432e-01, -1.30665086e+00],\n",
       "       [ 7.45248597e-01,  3.92610004e-01],\n",
       "       [ 4.82495935e-01, -4.23857920e-01],\n",
       "       [ 1.23832352e+00, -9.41317874e-01],\n",
       "       [ 6.38745956e-01, -4.23181443e-01],\n",
       "       [ 7.08892454e-01, -7.17873080e-02],\n",
       "       [ 8.80680806e-01,  2.41419872e-01],\n",
       "       [ 1.26163660e+00, -8.82324175e-02],\n",
       "       [ 1.36429443e+00,  3.21733105e-01],\n",
       "       [ 6.71209133e-01, -2.31407546e-01],\n",
       "       [-3.42074786e-02, -1.06339446e+00],\n",
       "       [ 1.35938285e-01, -1.56578917e+00],\n",
       "       [ 2.86869203e-02, -1.57615162e+00],\n",
       "       [ 2.47661071e-01, -7.82151385e-01],\n",
       "       [ 1.06626094e+00, -6.39490089e-01],\n",
       "       [ 2.31374017e-01, -2.89253091e-01],\n",
       "       [ 4.37742629e-01,  8.40935844e-01],\n",
       "       [ 1.05529799e+00,  5.12300500e-01],\n",
       "       [ 1.04811985e+00, -1.39152669e+00],\n",
       "       [ 7.70889665e-02, -2.22565155e-01],\n",
       "       [ 2.88884976e-01, -1.33239211e+00],\n",
       "       [ 2.84765938e-01, -1.12318307e+00],\n",
       "       [ 6.31323588e-01,  1.87481817e-02],\n",
       "       [ 3.42154783e-01, -9.93443680e-01],\n",
       "       [-3.56740297e-01, -2.01977467e+00],\n",
       "       [ 2.94694757e-01, -8.59201772e-01],\n",
       "       [ 9.87594609e-02, -1.85081588e-01],\n",
       "       [ 2.34629192e-01, -3.88771165e-01],\n",
       "       [ 5.82799429e-01, -1.61959877e-01],\n",
       "       [-4.41305191e-01, -1.54450108e+00],\n",
       "       [ 2.63247557e-01, -6.02823192e-01],\n",
       "       [ 1.85132653e+00,  8.65063783e-01],\n",
       "       [ 1.16310899e+00, -7.02714905e-01],\n",
       "       [ 2.21017431e+00,  5.50427373e-01],\n",
       "       [ 1.44560415e+00, -5.40224147e-02],\n",
       "       [ 1.87327125e+00,  2.87512384e-01],\n",
       "       [ 2.75597059e+00,  7.85517856e-01],\n",
       "       [ 3.72549032e-01, -1.56008015e+00],\n",
       "       [ 2.30663299e+00,  4.06499492e-01],\n",
       "       [ 2.00988971e+00, -7.21606190e-01],\n",
       "       [ 2.26701470e+00,  1.91023669e+00],\n",
       "       [ 1.37096808e+00,  6.85232477e-01],\n",
       "       [ 1.60726341e+00, -4.29437466e-01],\n",
       "       [ 1.88928408e+00,  4.09649055e-01],\n",
       "       [ 1.26455057e+00, -1.16554279e+00],\n",
       "       [ 1.47312141e+00, -4.45129823e-01],\n",
       "       [ 1.59673799e+00,  6.69853676e-01],\n",
       "       [ 1.47720346e+00,  2.47442450e-01],\n",
       "       [ 2.43382015e+00,  2.54234388e+00],\n",
       "       [ 3.31268166e+00,  2.02026219e-03],\n",
       "       [ 1.26678977e+00, -1.71321334e+00],\n",
       "       [ 2.04372124e+00,  9.00804563e-01],\n",
       "       [ 9.83898272e-01, -5.73992460e-01],\n",
       "       [ 2.90075316e+00,  3.97657100e-01],\n",
       "       [ 1.33815252e+00, -4.89025799e-01],\n",
       "       [ 1.70744479e+00,  1.00533899e+00],\n",
       "       [ 1.96010534e+00,  9.95290093e-01],\n",
       "       [ 1.18061229e+00, -3.22819788e-01],\n",
       "       [ 1.02739137e+00,  5.88181161e-02],\n",
       "       [ 1.79314778e+00, -1.94660539e-01],\n",
       "       [ 1.86871469e+00,  5.49220870e-01],\n",
       "       [ 2.43967389e+00,  2.45136467e-01],\n",
       "       [ 2.31247277e+00,  2.61041168e+00],\n",
       "       [ 1.86746147e+00, -1.85677955e-01],\n",
       "       [ 1.11953075e+00, -3.00541658e-01],\n",
       "       [ 1.20692448e+00, -8.18141804e-01],\n",
       "       [ 2.80295612e+00,  8.41669980e-01],\n",
       "       [ 1.58370611e+00,  1.06323390e+00],\n",
       "       [ 1.35260091e+00,  4.15028326e-01],\n",
       "       [ 9.31407188e-01,  1.23519657e-02],\n",
       "       [ 1.85783688e+00,  6.66027635e-01],\n",
       "       [ 2.02056027e+00,  6.05562551e-01],\n",
       "       [ 1.90765124e+00,  6.79853206e-01],\n",
       "       [ 2.04655008e+00,  8.58478010e-01],\n",
       "       [ 2.00469956e+00,  1.04126932e+00],\n",
       "       [ 1.87605193e+00,  3.78388342e-01],\n",
       "       [ 1.56851596e+00, -9.04007671e-01],\n",
       "       [ 1.52701783e+00,  2.61268020e-01],\n",
       "       [ 1.38047056e+00,  1.00640530e+00],\n",
       "       [ 9.67173695e-01, -2.85947210e-02]])"
      ]
     },
     "execution_count": 821,
     "metadata": {},
     "output_type": "execute_result"
    }
   ],
   "source": [
    "df_pca"
   ]
  },
  {
   "cell_type": "code",
   "execution_count": 822,
   "id": "892109f6-172b-4a4d-a169-b7185685d633",
   "metadata": {},
   "outputs": [
    {
     "data": {
      "text/html": [
       "<div>\n",
       "<style scoped>\n",
       "    .dataframe tbody tr th:only-of-type {\n",
       "        vertical-align: middle;\n",
       "    }\n",
       "\n",
       "    .dataframe tbody tr th {\n",
       "        vertical-align: top;\n",
       "    }\n",
       "\n",
       "    .dataframe thead th {\n",
       "        text-align: right;\n",
       "    }\n",
       "</style>\n",
       "<table border=\"1\" class=\"dataframe\">\n",
       "  <thead>\n",
       "    <tr style=\"text-align: right;\">\n",
       "      <th></th>\n",
       "      <th>PC1</th>\n",
       "      <th>PC2</th>\n",
       "    </tr>\n",
       "  </thead>\n",
       "  <tbody>\n",
       "    <tr>\n",
       "      <th>0</th>\n",
       "      <td>-2.252692</td>\n",
       "      <td>0.479299</td>\n",
       "    </tr>\n",
       "    <tr>\n",
       "      <th>1</th>\n",
       "      <td>-2.071004</td>\n",
       "      <td>-0.674234</td>\n",
       "    </tr>\n",
       "    <tr>\n",
       "      <th>2</th>\n",
       "      <td>-2.353147</td>\n",
       "      <td>-0.340442</td>\n",
       "    </tr>\n",
       "    <tr>\n",
       "      <th>3</th>\n",
       "      <td>-2.288762</td>\n",
       "      <td>-0.595441</td>\n",
       "    </tr>\n",
       "    <tr>\n",
       "      <th>4</th>\n",
       "      <td>-2.377294</td>\n",
       "      <td>0.646885</td>\n",
       "    </tr>\n",
       "  </tbody>\n",
       "</table>\n",
       "</div>"
      ],
      "text/plain": [
       "        PC1       PC2\n",
       "0 -2.252692  0.479299\n",
       "1 -2.071004 -0.674234\n",
       "2 -2.353147 -0.340442\n",
       "3 -2.288762 -0.595441\n",
       "4 -2.377294  0.646885"
      ]
     },
     "execution_count": 822,
     "metadata": {},
     "output_type": "execute_result"
    }
   ],
   "source": [
    "# Converting to dataframa\n",
    "X_pca = pd.DataFrame(df_pca, columns = ['PC1','PC2']) # Reducing data using pca\n",
    "X_pca.head()"
   ]
  },
  {
   "cell_type": "raw",
   "id": "bf57a2ee-a2cc-4f5c-be18-7f73aae82e12",
   "metadata": {},
   "source": [
    "# Plotting the clusters\n",
    "\n",
    "plt.scatter(X_pca['PC1'],X_pca['PC2'], c = y_kmeans)\n",
    "plt.show()"
   ]
  },
  {
   "cell_type": "code",
   "execution_count": 823,
   "id": "a2d11fa1-8938-43ca-95e3-32a4d65a535a",
   "metadata": {},
   "outputs": [
    {
     "data": {
      "image/png": "[encoded data removed]",
      "text/plain": [
       "<Figure size 640x480 with 1 Axes>"
      ]
     },
     "metadata": {},
     "output_type": "display_data"
    }
   ],
   "source": [
    "# Using custom colours\n",
    "colors = ['orange','g','skyblue','m','indigo']\n",
    "\n",
    "for i in range(5):\n",
    "  cluster_data = X_pca[y_kmeans ==i]\n",
    "  plt.scatter(cluster_data['PC1'],\n",
    "              cluster_data['PC2'],\n",
    "              c=colors[i],\n",
    "              label = f'Cluster{i}')\n",
    "  plt.legend()"
   ]
  },
  {
   "cell_type": "markdown",
   "id": "73a6b76c-233c-4a3c-9bd4-b3cc97e653f2",
   "metadata": {},
   "source": [
    "#### B) Hierarchical Clustering"
   ]
  },
  {
   "cell_type": "raw",
   "id": "fc7447a6-4b3e-479b-8771-691b081f4d97",
   "metadata": {},
   "source": [
    "Hierarchical clustering is a clustering technique that groups data points into a hierarchy of clusters. It operates either in a divisive (top-down) or agglomerative (bottom-up) manner. Agglomerative clustering starts with each data point as its own cluster and iteratively merges the closest clusters based on a distance metric (e.g., Euclidean) until all points form a single cluster. Divisive clustering does the reverse, splitting one large cluster into smaller clusters. The results are visualized using a dendrogram, which shows the merging or splitting process and helps determine the optimal number of clusters by cutting the dendrogram at a specific level. Hierarchical clustering is particularly useful for understanding nested cluster relationships."
   ]
  },
  {
   "cell_type": "raw",
   "id": "aad2a714-3f5a-46d3-89e9-43cc16e11304",
   "metadata": {},
   "source": [
    "Why Hierarchical Clustering for Iris dataset?\n",
    "\n",
    "Hierarchical clustering is important in the Iris dataset as it helps uncover natural groupings of the three flower species (Setosa, Versicolor, Virginica) without requiring predefined labels. It provides a dendrogram that visually represents the clustering process, offering insights into how data points and species are related at different levels. By leveraging distance-based metrics, hierarchical clustering identifies patterns in the petal and sepal measurements, making it a powerful tool for exploratory data analysis and understanding the dataset’s structure."
   ]
  },
  {
   "cell_type": "code",
   "execution_count": 825,
   "id": "a63467a4-37dd-450f-87dd-18a47b4c7670",
   "metadata": {},
   "outputs": [
    {
     "data": {
      "text/html": [
       "<div>\n",
       "<style scoped>\n",
       "    .dataframe tbody tr th:only-of-type {\n",
       "        vertical-align: middle;\n",
       "    }\n",
       "\n",
       "    .dataframe tbody tr th {\n",
       "        vertical-align: top;\n",
       "    }\n",
       "\n",
       "    .dataframe thead th {\n",
       "        text-align: right;\n",
       "    }\n",
       "</style>\n",
       "<table border=\"1\" class=\"dataframe\">\n",
       "  <thead>\n",
       "    <tr style=\"text-align: right;\">\n",
       "      <th></th>\n",
       "      <th>0</th>\n",
       "      <th>1</th>\n",
       "      <th>2</th>\n",
       "      <th>3</th>\n",
       "    </tr>\n",
       "  </thead>\n",
       "  <tbody>\n",
       "    <tr>\n",
       "      <th>0</th>\n",
       "      <td>-0.898033</td>\n",
       "      <td>1.012401</td>\n",
       "      <td>-1.333255</td>\n",
       "      <td>-1.308624</td>\n",
       "    </tr>\n",
       "    <tr>\n",
       "      <th>1</th>\n",
       "      <td>-1.139562</td>\n",
       "      <td>-0.137353</td>\n",
       "      <td>-1.333255</td>\n",
       "      <td>-1.308624</td>\n",
       "    </tr>\n",
       "    <tr>\n",
       "      <th>2</th>\n",
       "      <td>-1.381091</td>\n",
       "      <td>0.322549</td>\n",
       "      <td>-1.390014</td>\n",
       "      <td>-1.308624</td>\n",
       "    </tr>\n",
       "    <tr>\n",
       "      <th>3</th>\n",
       "      <td>-1.501855</td>\n",
       "      <td>0.092598</td>\n",
       "      <td>-1.276496</td>\n",
       "      <td>-1.308624</td>\n",
       "    </tr>\n",
       "    <tr>\n",
       "      <th>4</th>\n",
       "      <td>-1.018798</td>\n",
       "      <td>1.242352</td>\n",
       "      <td>-1.333255</td>\n",
       "      <td>-1.308624</td>\n",
       "    </tr>\n",
       "  </tbody>\n",
       "</table>\n",
       "</div>"
      ],
      "text/plain": [
       "          0         1         2         3\n",
       "0 -0.898033  1.012401 -1.333255 -1.308624\n",
       "1 -1.139562 -0.137353 -1.333255 -1.308624\n",
       "2 -1.381091  0.322549 -1.390014 -1.308624\n",
       "3 -1.501855  0.092598 -1.276496 -1.308624\n",
       "4 -1.018798  1.242352 -1.333255 -1.308624"
      ]
     },
     "execution_count": 825,
     "metadata": {},
     "output_type": "execute_result"
    }
   ],
   "source": [
    "X.head()"
   ]
  },
  {
   "cell_type": "code",
   "execution_count": 826,
   "id": "99f65b04-7354-4888-acec-bd4387b6a33b",
   "metadata": {},
   "outputs": [],
   "source": [
    "X_hc = df.values"
   ]
  },
  {
   "cell_type": "code",
   "execution_count": 827,
   "id": "9734326a-130e-45fa-82cd-30605ed496be",
   "metadata": {},
   "outputs": [
    {
     "data": {
      "text/plain": [
       "array([[5.1, 3.5, 1.4, 0.2, 4. ],\n",
       "       [4.9, 3. , 1.4, 0.2, 1. ],\n",
       "       [4.7, 3.2, 1.3, 0.2, 1. ],\n",
       "       [4.6, 3.1, 1.5, 0.2, 1. ],\n",
       "       [5. , 3.6, 1.4, 0.2, 4. ],\n",
       "       [5.4, 3.9, 1.7, 0.4, 4. ],\n",
       "       [4.6, 3.4, 1.4, 0.3, 1. ],\n",
       "       [5. , 3.4, 1.5, 0.2, 1. ],\n",
       "       [4.4, 2.9, 1.4, 0.2, 1. ],\n",
       "       [4.9, 3.1, 1.5, 0.1, 1. ],\n",
       "       [5.4, 3.7, 1.5, 0.2, 4. ],\n",
       "       [4.8, 3.4, 1.6, 0.2, 1. ],\n",
       "       [4.8, 3. , 1.4, 0.1, 1. ],\n",
       "       [4.3, 3. , 1.1, 0.1, 1. ],\n",
       "       [5.8, 4. , 1.2, 0.2, 4. ],\n",
       "       [5.7, 4.4, 1.5, 0.4, 4. ],\n",
       "       [5.4, 3.9, 1.3, 0.4, 4. ],\n",
       "       [5.1, 3.5, 1.4, 0.3, 4. ],\n",
       "       [5.7, 3.8, 1.7, 0.3, 4. ],\n",
       "       [5.1, 3.8, 1.5, 0.3, 4. ],\n",
       "       [5.4, 3.4, 1.7, 0.2, 4. ],\n",
       "       [5.1, 3.7, 1.5, 0.4, 4. ],\n",
       "       [4.6, 3.6, 1. , 0.2, 4. ],\n",
       "       [5.1, 3.3, 1.7, 0.5, 1. ],\n",
       "       [4.8, 3.4, 1.9, 0.2, 1. ],\n",
       "       [5. , 3. , 1.6, 0.2, 1. ],\n",
       "       [5. , 3.4, 1.6, 0.4, 1. ],\n",
       "       [5.2, 3.5, 1.5, 0.2, 4. ],\n",
       "       [5.2, 3.4, 1.4, 0.2, 4. ],\n",
       "       [4.7, 3.2, 1.6, 0.2, 1. ],\n",
       "       [4.8, 3.1, 1.6, 0.2, 1. ],\n",
       "       [5.4, 3.4, 1.5, 0.4, 4. ],\n",
       "       [5.2, 4.1, 1.5, 0.1, 4. ],\n",
       "       [5.5, 4.2, 1.4, 0.2, 4. ],\n",
       "       [4.9, 3.1, 1.5, 0.2, 1. ],\n",
       "       [5. , 3.2, 1.2, 0.2, 1. ],\n",
       "       [5.5, 3.5, 1.3, 0.2, 4. ],\n",
       "       [4.9, 3.6, 1.4, 0.1, 4. ],\n",
       "       [4.4, 3. , 1.3, 0.2, 1. ],\n",
       "       [5.1, 3.4, 1.5, 0.2, 1. ],\n",
       "       [5. , 3.5, 1.3, 0.3, 4. ],\n",
       "       [4.5, 2.3, 1.3, 0.3, 1. ],\n",
       "       [4.4, 3.2, 1.3, 0.2, 1. ],\n",
       "       [5. , 3.5, 1.6, 0.6, 4. ],\n",
       "       [5.1, 3.8, 1.9, 0.4, 4. ],\n",
       "       [4.8, 3. , 1.4, 0.3, 1. ],\n",
       "       [5.1, 3.8, 1.6, 0.2, 4. ],\n",
       "       [4.6, 3.2, 1.4, 0.2, 1. ],\n",
       "       [5.3, 3.7, 1.5, 0.2, 4. ],\n",
       "       [5. , 3.3, 1.4, 0.2, 1. ],\n",
       "       [7. , 3.2, 4.7, 1.4, 3. ],\n",
       "       [6.4, 3.2, 4.5, 1.5, 0. ],\n",
       "       [6.9, 3.1, 4.9, 1.5, 0. ],\n",
       "       [5.5, 2.3, 4. , 1.3, 2. ],\n",
       "       [6.5, 2.8, 4.6, 1.5, 0. ],\n",
       "       [5.7, 2.8, 4.5, 1.3, 2. ],\n",
       "       [6.3, 3.3, 4.7, 1.6, 0. ],\n",
       "       [4.9, 2.4, 3.3, 1. , 2. ],\n",
       "       [6.6, 2.9, 4.6, 1.3, 0. ],\n",
       "       [5.2, 2.7, 3.9, 1.4, 2. ],\n",
       "       [5. , 2. , 3.5, 1. , 2. ],\n",
       "       [5.9, 3. , 4.2, 1.5, 0. ],\n",
       "       [6. , 2.2, 4. , 1. , 2. ],\n",
       "       [6.1, 2.9, 4.7, 1.4, 0. ],\n",
       "       [5.6, 2.9, 3.6, 1.3, 2. ],\n",
       "       [6.7, 3.1, 4.4, 1.4, 0. ],\n",
       "       [5.6, 3. , 4.5, 1.5, 0. ],\n",
       "       [5.8, 2.7, 4.1, 1. , 2. ],\n",
       "       [6.2, 2.2, 4.5, 1.5, 2. ],\n",
       "       [5.6, 2.5, 3.9, 1.1, 2. ],\n",
       "       [5.9, 3.2, 4.8, 1.8, 0. ],\n",
       "       [6.1, 2.8, 4. , 1.3, 0. ],\n",
       "       [6.3, 2.5, 4.9, 1.5, 0. ],\n",
       "       [6.1, 2.8, 4.7, 1.2, 0. ],\n",
       "       [6.4, 2.9, 4.3, 1.3, 0. ],\n",
       "       [6.6, 3. , 4.4, 1.4, 0. ],\n",
       "       [6.8, 2.8, 4.8, 1.4, 0. ],\n",
       "       [6.7, 3. , 5. , 1.7, 0. ],\n",
       "       [6. , 2.9, 4.5, 1.5, 0. ],\n",
       "       [5.7, 2.6, 3.5, 1. , 2. ],\n",
       "       [5.5, 2.4, 3.8, 1.1, 2. ],\n",
       "       [5.5, 2.4, 3.7, 1. , 2. ],\n",
       "       [5.8, 2.7, 3.9, 1.2, 2. ],\n",
       "       [6. , 2.7, 5.1, 1.6, 0. ],\n",
       "       [5.4, 3. , 4.5, 1.5, 0. ],\n",
       "       [6. , 3.4, 4.5, 1.6, 0. ],\n",
       "       [6.7, 3.1, 4.7, 1.5, 0. ],\n",
       "       [6.3, 2.3, 4.4, 1.3, 2. ],\n",
       "       [5.6, 3. , 4.1, 1.3, 0. ],\n",
       "       [5.5, 2.5, 4. , 1.3, 2. ],\n",
       "       [5.5, 2.6, 4.4, 1.2, 2. ],\n",
       "       [6.1, 3. , 4.6, 1.4, 0. ],\n",
       "       [5.8, 2.6, 4. , 1.2, 2. ],\n",
       "       [5. , 2.3, 3.3, 1. , 2. ],\n",
       "       [5.6, 2.7, 4.2, 1.3, 2. ],\n",
       "       [5.7, 3. , 4.2, 1.2, 0. ],\n",
       "       [5.7, 2.9, 4.2, 1.3, 0. ],\n",
       "       [6.2, 2.9, 4.3, 1.3, 0. ],\n",
       "       [5.1, 2.5, 3. , 1.1, 2. ],\n",
       "       [5.7, 2.8, 4.1, 1.3, 2. ],\n",
       "       [6.3, 3.3, 6. , 2.5, 3. ],\n",
       "       [5.8, 2.7, 5.1, 1.9, 0. ],\n",
       "       [7.1, 3. , 5.9, 2.1, 3. ],\n",
       "       [6.3, 2.9, 5.6, 1.8, 0. ],\n",
       "       [6.5, 3. , 5.8, 2.2, 3. ],\n",
       "       [7.6, 3. , 6.6, 2.1, 3. ],\n",
       "       [4.9, 2.5, 4.5, 1.7, 2. ],\n",
       "       [7.3, 2.9, 6.3, 1.8, 3. ],\n",
       "       [6.7, 2.5, 5.8, 1.8, 0. ],\n",
       "       [7.2, 3.6, 6.1, 2.5, 3. ],\n",
       "       [6.5, 3.2, 5.1, 2. , 3. ],\n",
       "       [6.4, 2.7, 5.3, 1.9, 0. ],\n",
       "       [6.8, 3. , 5.5, 2.1, 3. ],\n",
       "       [5.7, 2.5, 5. , 2. , 2. ],\n",
       "       [5.8, 2.8, 5.1, 2.4, 0. ],\n",
       "       [6.4, 3.2, 5.3, 2.3, 3. ],\n",
       "       [6.5, 3. , 5.5, 1.8, 0. ],\n",
       "       [7.7, 3.8, 6.7, 2.2, 3. ],\n",
       "       [7.7, 2.6, 6.9, 2.3, 3. ],\n",
       "       [6. , 2.2, 5. , 1.5, 2. ],\n",
       "       [6.9, 3.2, 5.7, 2.3, 3. ],\n",
       "       [5.6, 2.8, 4.9, 2. , 0. ],\n",
       "       [7.7, 2.8, 6.7, 2. , 3. ],\n",
       "       [6.3, 2.7, 4.9, 1.8, 0. ],\n",
       "       [6.7, 3.3, 5.7, 2.1, 3. ],\n",
       "       [7.2, 3.2, 6. , 1.8, 3. ],\n",
       "       [6.2, 2.8, 4.8, 1.8, 0. ],\n",
       "       [6.1, 3. , 4.9, 1.8, 0. ],\n",
       "       [6.4, 2.8, 5.6, 2.1, 0. ],\n",
       "       [7.2, 3. , 5.8, 1.6, 3. ],\n",
       "       [7.4, 2.8, 6.1, 1.9, 3. ],\n",
       "       [7.9, 3.8, 6.4, 2. , 3. ],\n",
       "       [6.4, 2.8, 5.6, 2.2, 0. ],\n",
       "       [6.3, 2.8, 5.1, 1.5, 0. ],\n",
       "       [6.1, 2.6, 5.6, 1.4, 0. ],\n",
       "       [7.7, 3. , 6.1, 2.3, 3. ],\n",
       "       [6.3, 3.4, 5.6, 2.4, 3. ],\n",
       "       [6.4, 3.1, 5.5, 1.8, 0. ],\n",
       "       [6. , 3. , 4.8, 1.8, 0. ],\n",
       "       [6.9, 3.1, 5.4, 2.1, 3. ],\n",
       "       [6.7, 3.1, 5.6, 2.4, 3. ],\n",
       "       [6.9, 3.1, 5.1, 2.3, 3. ],\n",
       "       [6.8, 3.2, 5.9, 2.3, 3. ],\n",
       "       [6.7, 3.3, 5.7, 2.5, 3. ],\n",
       "       [6.7, 3. , 5.2, 2.3, 3. ],\n",
       "       [6.3, 2.5, 5. , 1.9, 0. ],\n",
       "       [6.5, 3. , 5.2, 2. , 0. ],\n",
       "       [6.2, 3.4, 5.4, 2.3, 3. ],\n",
       "       [5.9, 3. , 5.1, 1.8, 0. ]])"
      ]
     },
     "execution_count": 827,
     "metadata": {},
     "output_type": "execute_result"
    }
   ],
   "source": [
    "X_hc"
   ]
  },
  {
   "cell_type": "code",
   "execution_count": 828,
   "id": "6dc00993-c2be-443c-9c0b-bc71fc8ac4c3",
   "metadata": {},
   "outputs": [
    {
     "data": {
      "image/png": "[encoded data removed]",
      "text/plain": [
       "<Figure size 640x480 with 1 Axes>"
      ]
     },
     "metadata": {},
     "output_type": "display_data"
    }
   ],
   "source": [
    "# Using the dendrogram to find the optimal number of clusters\n",
    "\n",
    "import scipy.cluster.hierarchy as sch\n",
    "dendrogram = sch.dendrogram(sch.linkage(X_hc, method = 'ward'))\n",
    "\n",
    "\n",
    "plt.title('Dendrogram for Hierarchical Clustering')\n",
    "plt.xlabel('Samples')\n",
    "plt.ylabel('Euclidean Distance')\n",
    "plt.show()\n"
   ]
  },
  {
   "cell_type": "code",
   "execution_count": 829,
   "id": "5e52c3ec-c29a-4370-bff3-a5032927cd54",
   "metadata": {},
   "outputs": [],
   "source": [
    "from sklearn.cluster import AgglomerativeClustering\n",
    "hc = AgglomerativeClustering(n_clusters = 5, metric = 'euclidean', linkage = 'ward')"
   ]
  },
  {
   "cell_type": "code",
   "execution_count": 830,
   "id": "0ff04f22-c76b-45cf-9e7a-8f675a10e411",
   "metadata": {},
   "outputs": [],
   "source": [
    "y_hc = hc.fit_predict(X_hc)"
   ]
  },
  {
   "cell_type": "code",
   "execution_count": 831,
   "id": "f48bd1cf-86cd-4e46-996e-7e3adb8261dc",
   "metadata": {},
   "outputs": [
    {
     "data": {
      "text/plain": [
       "array([4, 3, 3, 3, 4, 4, 3, 3, 3, 3, 4, 3, 3, 3, 4, 4, 4, 4, 4, 4, 4, 4,\n",
       "       4, 3, 3, 3, 3, 4, 4, 3, 3, 4, 4, 4, 3, 3, 4, 4, 3, 3, 4, 3, 3, 4,\n",
       "       4, 3, 4, 3, 4, 3, 0, 2, 2, 1, 2, 1, 2, 1, 2, 1, 1, 2, 1, 2, 1, 2,\n",
       "       2, 1, 1, 1, 2, 2, 2, 2, 2, 2, 2, 2, 2, 1, 1, 1, 1, 2, 2, 2, 2, 1,\n",
       "       2, 1, 1, 2, 1, 1, 1, 2, 2, 2, 1, 1, 0, 2, 0, 2, 0, 0, 1, 0, 2, 0,\n",
       "       0, 2, 0, 1, 2, 0, 2, 0, 0, 1, 0, 2, 0, 2, 0, 0, 2, 2, 2, 0, 0, 0,\n",
       "       2, 2, 2, 0, 0, 2, 2, 0, 0, 0, 0, 0, 0, 2, 2, 0, 2], dtype=int64)"
      ]
     },
     "execution_count": 831,
     "metadata": {},
     "output_type": "execute_result"
    }
   ],
   "source": [
    "y_hc"
   ]
  },
  {
   "cell_type": "code",
   "execution_count": 832,
   "id": "ef8b5120-c5df-4c14-a6fd-3a44557f6e30",
   "metadata": {},
   "outputs": [
    {
     "data": {
      "image/png": "[encoded data removed]",
      "text/plain": [
       "<Figure size 640x480 with 1 Axes>"
      ]
     },
     "metadata": {},
     "output_type": "display_data"
    }
   ],
   "source": [
    "# Plotting data points from Cluster 1\n",
    "plt.scatter(X_hc[y_hc == 0, 0], X_hc[y_hc == 0, 1], s = 100, c = 'orange', label = 'Cluster 1')\n",
    "\n",
    "# X_hc[y_hc == 0, 0] represents the x-coordinates of the data points in cluster 0\n",
    "# X_hc[y_hc == 0, 1] represents the y-coordinates of the data points in cluster 0\n",
    "\n",
    "# Plotting data points from Cluster 2\n",
    "plt.scatter(X_hc[y_hc == 1, 0], X_hc[y_hc == 1, 1], s = 100, c = 'blue', label = 'Cluster 2')\n",
    "\n",
    "# Plotting data points from Cluster 3\n",
    "plt.scatter(X_hc[y_hc == 2, 0], X_hc[y_hc == 2, 1], s = 100, c = 'green', label = 'Cluster 3')\n",
    "\n",
    "# Plotting data points from Cluster 4\n",
    "plt.scatter(X_hc[y_hc == 3, 0], X_hc[y_hc == 3, 1], s = 100, c = 'cyan', label = 'Cluster 4')\n",
    "\n",
    "# Plotting data points from Cluster 5\n",
    "plt.scatter(X_hc[y_hc == 4, 0], X_hc[y_hc == 4, 1], s = 100, c = 'magenta', label = 'Cluster 5')\n",
    "\n",
    "plt.title('Scatter Plot of Clusters')\n",
    "plt.xlabel('Sepal Length')\n",
    "plt.ylabel('Sepal Width')\n",
    "plt.legend()\n",
    "plt.show()"
   ]
  },
  {
   "cell_type": "code",
   "execution_count": 833,
   "id": "df77edbb-590f-4874-b369-bdd9e8fb427b",
   "metadata": {},
   "outputs": [
    {
     "data": {
      "text/plain": [
       "0.7011420828859187"
      ]
     },
     "execution_count": 833,
     "metadata": {},
     "output_type": "execute_result"
    }
   ],
   "source": [
    "# silhouette score\n",
    "from sklearn.metrics import silhouette_score\n",
    "\n",
    "sil_sc = silhouette_score(X_hc, y_hc)\n",
    "sil_sc"
   ]
  }
 ],
 "metadata": {
  "kernelspec": {
   "display_name": "Python 3 (ipykernel)",
   "language": "python",
   "name": "python3"
  },
  "language_info": {
   "codemirror_mode": {
    "name": "ipython",
    "version": 3
   },
   "file_extension": ".py",
   "mimetype": "text/x-python",
   "name": "python",
   "nbconvert_exporter": "python",
   "pygments_lexer": "ipython3",
   "version": "3.12.4"
  }
 },
 "nbformat": 4,
 "nbformat_minor": 5
}
